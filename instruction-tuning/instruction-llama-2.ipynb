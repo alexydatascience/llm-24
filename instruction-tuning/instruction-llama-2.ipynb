{
 "cells": [
  {
   "cell_type": "code",
   "execution_count": 1,
   "metadata": {},
   "outputs": [
    {
     "name": "stderr",
     "output_type": "stream",
     "text": [
      "/home/alex/Projects/llm-24/.llm-24-venv/lib/python3.10/site-packages/tqdm/auto.py:21: TqdmWarning: IProgress not found. Please update jupyter and ipywidgets. See https://ipywidgets.readthedocs.io/en/stable/user_install.html\n",
      "  from .autonotebook import tqdm as notebook_tqdm\n",
      "Downloading readme: 100%|██████████| 8.20k/8.20k [00:00<00:00, 2.71MB/s]\n",
      "Downloading data: 100%|██████████| 13.1M/13.1M [00:00<00:00, 17.2MB/s]\n",
      "Generating train split: 100%|██████████| 15011/15011 [00:00<00:00, 152468.25 examples/s]\n"
     ]
    },
    {
     "name": "stdout",
     "output_type": "stream",
     "text": [
      "dataset size: 15011\n",
      "{'instruction': 'Identify which instrument is string or percussion: Dhaa, Tremoloa', 'context': '', 'response': 'Tremoloa is string, Dhaa is percussion.', 'category': 'classification'}\n"
     ]
    }
   ],
   "source": [
    "from datasets import load_dataset\n",
    "from random import randrange\n",
    " \n",
    "# Load dataset from the hub\n",
    "dataset = load_dataset(\"databricks/databricks-dolly-15k\", split=\"train\")\n",
    " \n",
    "print(f\"dataset size: {len(dataset)}\")\n",
    "# dataset size: 15011"
   ]
  },
  {
   "cell_type": "code",
   "execution_count": 2,
   "metadata": {},
   "outputs": [
    {
     "data": {
      "text/plain": [
       "Dataset({\n",
       "    features: ['instruction', 'context', 'response', 'category'],\n",
       "    num_rows: 15011\n",
       "})"
      ]
     },
     "execution_count": 2,
     "metadata": {},
     "output_type": "execute_result"
    }
   ],
   "source": [
    "dataset"
   ]
  },
  {
   "cell_type": "code",
   "execution_count": 7,
   "metadata": {},
   "outputs": [
    {
     "data": {
      "text/plain": [
       "{'instruction': 'What is the purpose of life?',\n",
       " 'context': '',\n",
       " 'response': \"This is a philosophical question that many people over the course of history have asked. Some people say that there is no purpose of life while some say the purpose of life is what you make of it. There is no way to tell which answer is correct because there doesn't exists any source of truth to compare with.\",\n",
       " 'category': 'general_qa'}"
      ]
     },
     "execution_count": 7,
     "metadata": {},
     "output_type": "execute_result"
    }
   ],
   "source": [
    "dataset[randrange(len(dataset))]"
   ]
  },
  {
   "cell_type": "code",
   "execution_count": 8,
   "metadata": {},
   "outputs": [],
   "source": [
    "def format_instruction(sample):\n",
    "\treturn f\"\"\"### Instruction:\n",
    "Use the Input below to create an instruction, which could have been used to generate the input using an LLM.\n",
    " \n",
    "### Input:\n",
    "{sample['response']}\n",
    " \n",
    "### Response:\n",
    "{sample['instruction']}\n",
    "\"\"\""
   ]
  },
  {
   "cell_type": "code",
   "execution_count": 10,
   "metadata": {},
   "outputs": [
    {
     "data": {
      "text/plain": [
       "\"### Instruction:\\nUse the Input below to create an instruction, which could have been used to generate the input using an LLM.\\n \\n### Input:\\nMany athletes are known to do cameos in movies and a have a couple of their own sports related movies. Ignoring those few roles, I would classify the celebrities mentioned as :\\n\\nActors who were not sports personalities include Brad Pitt, Harrison Ford, Robin Williams, Scarlett Johansson.\\n\\nSports personalities who have not taken up acting as a major career (yet) are :\\nKevin Durant - Acted in Thunderstuck and other movies and documentaries, but not a mainstream actor.\\nStephen Curry - Did a few cameos and documentaries.\\nShohei Ohtani and Patrick Mahomes only appear in sports documentaries and  tv series.\\nTom Brady had a major plot role in '80 for Brady' and cameos in other movies, but he is still largely a sports personality.\\n\\nActors with successful sports background are : Arnold Schwarzenegger (body building), Dwayne Johnson (Wrestling) and Jason Statham (Diving)\\n \\n### Response:\\nClassify the following celebrities as sports or acting personalities or both : Arnold Schwarzenegger, Brad Pitt, Kevin Durant, Shohei Ohtani, Harrison Ford, Dwayne Johnson, Jason Statham, Stephen Curry, Robin Williams, Scarlett Johansson, Tom Brady, Patrick Mahomes\\n\""
      ]
     },
     "execution_count": 10,
     "metadata": {},
     "output_type": "execute_result"
    }
   ],
   "source": [
    "sample = dataset[randrange(len(dataset))]\n",
    "format_instruction(sample)"
   ]
  }
 ],
 "metadata": {
  "kernelspec": {
   "display_name": ".llm-24-venv",
   "language": "python",
   "name": "python3"
  },
  "language_info": {
   "codemirror_mode": {
    "name": "ipython",
    "version": 3
   },
   "file_extension": ".py",
   "mimetype": "text/x-python",
   "name": "python",
   "nbconvert_exporter": "python",
   "pygments_lexer": "ipython3",
   "version": "3.10.14"
  }
 },
 "nbformat": 4,
 "nbformat_minor": 2
}
